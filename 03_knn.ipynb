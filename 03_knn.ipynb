{
 "cells": [
  {
   "cell_type": "code",
   "execution_count": 64,
   "id": "eaa953ea-0953-4e71-95b0-81ee1920b14d",
   "metadata": {},
   "outputs": [],
   "source": [
    "dados = [[1,1,1,0],\n",
    "         [1,3,2,0],\n",
    "         [4,5,6,1],\n",
    "         [5,6,7,1],\n",
    "         [8,8,8,1]]\n",
    "\n",
    "prev = [[1,1,1],\n",
    "         [2,2,2]]"
   ]
  },
  {
   "cell_type": "code",
   "execution_count": 66,
   "id": "1caad376-d4fa-4e81-a1f3-68710d7ce391",
   "metadata": {},
   "outputs": [
    {
     "data": {
      "text/plain": [
       "[0, 0]"
      ]
     },
     "execution_count": 66,
     "metadata": {},
     "output_type": "execute_result"
    }
   ],
   "source": [
    "def knn(dados, prev):\n",
    "    resultados = []  \n",
    "    \n",
    "    for p in prev:\n",
    "        diferenca = []\n",
    "        \n",
    "        for d in dados:\n",
    "            array_dados = np.array(d[:-1])  \n",
    "            array_prev = np.array(p)  \n",
    "            distancia = np.sqrt(sum((array_prev - array_dados)**2))  \n",
    "            diferenca.append((distancia, d[-1])) \n",
    "    \n",
    "        diferenca.sort(key=lambda x: x[0])  \n",
    "    \n",
    "        vizinhos = diferenca[:3]  \n",
    "    \n",
    "        contagem = {}\n",
    "        for _, rotulo in vizinhos:\n",
    "            if rotulo in contagem:\n",
    "                contagem[rotulo] += 1\n",
    "            else:\n",
    "                contagem[rotulo] = 1\n",
    "    \n",
    "        max_classe = None\n",
    "        max_count = -1\n",
    "        \n",
    "        for classe, count in contagem.items():\n",
    "            if count > max_count:\n",
    "                max_count = count\n",
    "                max_classe = classe\n",
    "        \n",
    "        resultados.append(max_classe) \n",
    "    \n",
    "    return resultados \n",
    "\n",
    "knn(dados, prev)\n",
    "\n"
   ]
  },
  {
   "cell_type": "code",
   "execution_count": null,
   "id": "9ae648b1-0e9f-4b99-b62b-d91abbb2be98",
   "metadata": {},
   "outputs": [],
   "source": []
  }
 ],
 "metadata": {
  "kernelspec": {
   "display_name": "machine_learning",
   "language": "python",
   "name": "machine_learning"
  },
  "language_info": {
   "codemirror_mode": {
    "name": "ipython",
    "version": 3
   },
   "file_extension": ".py",
   "mimetype": "text/x-python",
   "name": "python",
   "nbconvert_exporter": "python",
   "pygments_lexer": "ipython3",
   "version": "3.12.5"
  }
 },
 "nbformat": 4,
 "nbformat_minor": 5
}
